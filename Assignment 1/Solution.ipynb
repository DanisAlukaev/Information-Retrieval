{
 "cells": [
  {
   "cell_type": "markdown",
   "metadata": {},
   "source": [
    "# Home Assignment 1 - Crawler\n",
    "\n",
    "**Author:**    Danis Alukaev <br/>\n",
    "**Email:**      d.alukaev@innopolis.university <br/>\n",
    "**Group:**      B19-DS-01"
   ]
  },
  {
   "cell_type": "markdown",
   "metadata": {},
   "source": [
    "## 1.0. Related example\n",
    "\n",
    "This code shows `wget`-like tool written in python. Run it from console (`python wget.py`), make it work. Check the code, reuse, and modify for your needs."
   ]
  },
  {
   "cell_type": "code",
   "execution_count": null,
   "metadata": {},
   "outputs": [],
   "source": [
    "import argparse\n",
    "import os\n",
    "import re\n",
    "import requests\n",
    "\n",
    "\n",
    "def wget(url, filename):\n",
    "    # allow redirects - in case file is relocated\n",
    "    resp = requests.get(url, allow_redirects=True)\n",
    "    # this can also be 2xx, but for simplicity now we stick to 200\n",
    "    # you can also check for `resp.ok`\n",
    "    if resp.status_code != 200:\n",
    "        print(resp.status_code, resp.reason, 'for', url)\n",
    "        return\n",
    "    \n",
    "    # just to be cool and print something\n",
    "    print(*[f\"{key}: {value}\" for key, value in resp.headers.items()], sep='\\n')\n",
    "    print()\n",
    "    \n",
    "    # try to extract filename from url\n",
    "    if filename is None:\n",
    "        # start with http*, ends if ? or # appears (or none of)\n",
    "        m = re.search(\"^http.*/([^/\\?#]*)[\\?#]?\", url)\n",
    "        filename = m.group(1)\n",
    "        if not filename:\n",
    "            raise NameError(f\"Filename neither given, nor found for {url}\")\n",
    "\n",
    "    # what will you do in case 2 websites store file with the same name?\n",
    "    if os.path.exists(filename):\n",
    "        raise OSError(f\"File {filename} already exists\")\n",
    "    \n",
    "    with open(filename, 'wb') as f:\n",
    "        f.write(resp.content)\n",
    "        print(f\"File saved as {filename}\")\n",
    "\n",
    "\n",
    "if __name__ == \"__main__\":\n",
    "    parser = argparse.ArgumentParser(description='download file.')\n",
    "    parser.add_argument(\"-O\", type=str, default=None, dest='filename', help=\"output file name. Default -- taken from resource\")\n",
    "    parser.add_argument(\"url\", type=str, default=None, help=\"Provide URL here\")\n",
    "    args = parser.parse_args()\n",
    "    wget(args.url, args.filename)"
   ]
  },
  {
   "cell_type": "markdown",
   "metadata": {},
   "source": [
    "### 1.0.1. How to parse a page?\n",
    "\n",
    "If you build a crawler, you might follow one of the approaches:\n",
    "1. search for URLs in the page, assuming this is just a text.\n",
    "2. search for URLs in the places where URLs should appear: `<a href=..`, `<img src=...`, `<iframe src=...` and so on.\n",
    "\n",
    "To follow the first approach you can rely on some good regular expression. [Like this](https://stackoverflow.com/a/3809435).\n",
    "\n",
    "To follow the second approach just read one of these: [short answer](https://stackoverflow.com/questions/1080411/retrieve-links-from-web-page-using-python-and-beautifulsoup) or [exhaustive explanation](https://hackersandslackers.com/scraping-urls-with-beautifulsoup/)."
   ]
  },
  {
   "cell_type": "markdown",
   "metadata": {},
   "source": [
    "## 1.1. [15] Download and persist #\n",
    "Please complete a code for `load()`, `download()` and `persist()` methods of `Document` class. What they do:\n",
    "- for a given URL `download()` method downloads binary data and stores in `self.content`. It returns `True` for success, else `False`.\n",
    "- `persist()` method saves `self.content` somewhere in file system. We do it to avoid multiple downloads (for caching in other words).\n",
    "- `load()` method loads data from hard drive. Returns `True` for success.\n",
    "\n",
    "Tests checks that your code somehow works.\n",
    "\n",
    "**NB Passing the test doesn't mean you correctly completed the task.** These are **criteria, which have to be fullfilled**:\n",
    "1. URL is a unique identifier (as it is a subset of URI). Thus, documents with different URLs should be stored in different files. Typical errors: documents from the same domain are overwritten to the same file, URLs with similar endings are downloaded to the same file, etc.\n",
    "2. The document can be not only a text file, but also a binary. Pay attention that if you download `mp3` file, it still can be played. Hint: don't hurry to convert everything to text."
   ]
  },
  {
   "cell_type": "code",
   "execution_count": 1,
   "metadata": {},
   "outputs": [],
   "source": [
    "import requests\n",
    "from urllib.parse import quote\n",
    "from os.path import exists, join \n",
    "\n",
    "class Document:\n",
    "    \n",
    "    def __init__(self, url):\n",
    "        \"\"\"\n",
    "        TODO: check for the mp3 file.\n",
    "        \"\"\"\n",
    "        self.url = url\n",
    "        self.content = None\n",
    "        self.dir = \"./data\"\n",
    "        \n",
    "    def get(self):\n",
    "        if not self.load():\n",
    "            if not self.download():\n",
    "                raise FileNotFoundError(self.url)\n",
    "            else:\n",
    "                self.persist()\n",
    "    \n",
    "    def download(self):\n",
    "        \"\"\"\n",
    "        Downloads binary data and stores it in the content attribute.\n",
    "\n",
    "        :return: boolean whether the data was downloaded successfully.\n",
    "        \"\"\"\n",
    "        response = requests.get(self.url, allow_redirects=True)\n",
    "        if response.status_code == 200:\n",
    "            self.content = response.content\n",
    "            return True\n",
    "        print(f\"Download failed for {self.url}: {response.status_code} ({response.reason})\")\n",
    "        return False\n",
    "    \n",
    "    def _get_filepath(self):\n",
    "        \"\"\"\n",
    "        Returns path to the file storing content of url.\n",
    "\n",
    "        :return: filepath\n",
    "        \"\"\"\n",
    "        filename = quote(self.url, '')\n",
    "        filepath = join(self.dir, filename)\n",
    "        return filepath\n",
    "\n",
    "\n",
    "    def persist(self):\n",
    "        \"\"\"\n",
    "        Saves content in the local directory data.\n",
    "        Primarily, it is used for caching.\n",
    "\n",
    "        :return: boolean whether the data was stored successfully.\n",
    "\n",
    "        TODO: (?) check if the version exists or should be updated (new file for new content)\n",
    "        \"\"\"\n",
    "        try:\n",
    "            filepath = self._get_filepath()\n",
    "            with open(filepath, 'wb') as f:\n",
    "                f.write(self.content)\n",
    "        except Exception as e:\n",
    "            print(e)\n",
    "            return False\n",
    "        return True\n",
    "            \n",
    "    def load(self):\n",
    "        \"\"\"\n",
    "        Loads data from the local directory.\n",
    "\n",
    "        :return: boolean whether the data was loades successfully.\n",
    "        \"\"\"\n",
    "        filepath = self._get_filepath()\n",
    "        if exists(filepath):\n",
    "            with open(filepath, 'r') as f:\n",
    "                self.content = f.read()\n",
    "            return True\n",
    "        return False"
   ]
  },
  {
   "cell_type": "markdown",
   "metadata": {},
   "source": [
    "### 1.1.1. Tests ###"
   ]
  },
  {
   "cell_type": "code",
   "execution_count": 2,
   "metadata": {},
   "outputs": [],
   "source": [
    "doc = Document('http://sprotasov.ru/data/iu.txt')\n",
    "\n",
    "doc.get()\n",
    "assert doc.content, \"Document download failed\"\n",
    "assert \"Code snippets, demos and labs for the course\" in str(doc.content), \"Document content error\"\n",
    "\n",
    "doc.get()\n",
    "assert doc.load(), \"Load should return true for saved document\"\n",
    "assert \"Code snippets, demos and labs for the course\" in str(doc.content), \"Document load from disk error\""
   ]
  },
  {
   "cell_type": "markdown",
   "metadata": {},
   "source": [
    "## 1.3. [10] Parse HTML ##\n",
    "`BeautifulSoap` library is a de facto standard to parse XML and HTML documents in python. Use it to complete `parse()` method that extracts document contents. You should initialize:\n",
    "- `self.anchors` list of tuples `('text', 'url')` met in a document. Be aware, there exist relative links (e.g. `../content/pic.jpg`). Use `urllib.parse.urljoin()` to fix this issue.\n",
    "- `self.images` list of images met in a document. Again, links can be relative to current page.\n",
    "- `self.text` should keep plain text of the document without scripts, tags, comments and so on. You can refer to [this stackoverflow answer](https://stackoverflow.com/a/1983219) for details.\n",
    "\n",
    "**NB All these 3 criteria must be fulfilled to get full point for the task.**"
   ]
  },
  {
   "cell_type": "code",
   "execution_count": 3,
   "metadata": {},
   "outputs": [],
   "source": [
    "from bs4 import BeautifulSoup\n",
    "from bs4.element import Comment\n",
    "import urllib.parse\n",
    "\n",
    "\n",
    "class HtmlDocument(Document):\n",
    "    \n",
    "    def parse(self):\n",
    "        self.soup = BeautifulSoup(self.content, 'html.parser')\n",
    "\n",
    "        self.anchors = self._get_anchors()\n",
    "        self.images = self._get_images()\n",
    "        self.text = self._get_text()\n",
    "\n",
    "    def _get_anchors(self):\n",
    "        \"\"\"\n",
    "        Creates a list of anchor tuples ('text', 'url') met in a document.\n",
    "        \n",
    "        :return: list of anchor tuples.\n",
    "        \"\"\"\n",
    "        absolute_link_marker = \"//\"\n",
    "        anchors = self.soup.find_all('a')\n",
    "        result = []\n",
    "        for anchor in anchors:\n",
    "            link = anchor['href']\n",
    "            if absolute_link_marker not in anchor:\n",
    "                link = urllib.parse.urljoin(self.url, anchor['href'])\n",
    "            entry = (anchor.text, link)\n",
    "            result.append(entry)\n",
    "        return result\n",
    "        \n",
    "    \n",
    "    def _get_images(self):\n",
    "        \"\"\"\n",
    "        Creates a list of links to images met in document.\n",
    "\n",
    "        :return: list of links to images.\n",
    "\n",
    "        TODO: (?) should links be unique\n",
    "        \"\"\"\n",
    "        absolute_link_marker = \"//\"\n",
    "        images = self.soup.find_all(\"img\")\n",
    "        result = []\n",
    "        for entry in images:\n",
    "            result.append(entry)\n",
    "            if absolute_link_marker not in entry:\n",
    "                result[-1] = urllib.parse.urljoin(self.url, entry[\"src\"])\n",
    "        return result\n",
    "    \n",
    "    def _get_text(self):\n",
    "        \"\"\"\n",
    "        Converts document content to plain text.\n",
    "        \n",
    "        :return: string with plain text.\n",
    "        \"\"\"\n",
    "        texts = self.soup.findAll(text=True)\n",
    "        containers = ['head', 'title', 'style', 'script', 'meta', '[document]']\n",
    "\n",
    "        cleaned_texts = []\n",
    "        for element in texts:\n",
    "            parent = element.parent.name \n",
    "            if parent in containers or isinstance(element, Comment):\n",
    "                continue\n",
    "            cleaned_texts.append(element.strip())\n",
    "        plain = \" \".join(cleaned_texts).strip()\n",
    "        return plain"
   ]
  },
  {
   "cell_type": "markdown",
   "metadata": {},
   "source": [
    "### 1.3.1. Tests ###"
   ]
  },
  {
   "cell_type": "code",
   "execution_count": 4,
   "metadata": {},
   "outputs": [],
   "source": [
    "doc = HtmlDocument(\"http://sprotasov.ru\")\n",
    "doc.get()\n",
    "doc.parse()\n",
    "\n",
    "assert \"just few links\" in doc.text, \"Error parsing text\"\n",
    "assert \"http://sprotasov.ru/images/gb.svg\" in doc.images, \"Error parsing images\"\n",
    "assert any(p[1] == \"https://twitter.com/07C3\" for p in doc.anchors), \"Error parsing links\""
   ]
  },
  {
   "cell_type": "markdown",
   "metadata": {},
   "source": [
    "## 1.4. [10] Document analysis ##\n",
    "Complete the code for `HtmlDocumentTextData` class. Implement word and sentence splitting (use any method you can propose). \n",
    "\n",
    "**Criteria of success**: \n",
    "1. Your `get_word_stats()` method should return `Counter` object.\n",
    "2. Don't forget to lowercase your words for counting.\n",
    "3. Sentences should be obtained inside `<body>` tag only."
   ]
  },
  {
   "cell_type": "code",
   "execution_count": null,
   "metadata": {},
   "outputs": [],
   "source": [
    "!pip install nltk"
   ]
  },
  {
   "cell_type": "code",
   "execution_count": 5,
   "metadata": {},
   "outputs": [],
   "source": [
    "import re\n",
    "from collections import Counter\n",
    "from nltk.tokenize import sent_tokenize, word_tokenize\n",
    "\n",
    "\n",
    "class HtmlDocumentTextData:\n",
    "    \n",
    "    def __init__(self, url):\n",
    "        self.doc = HtmlDocument(url)\n",
    "        self.doc.get()\n",
    "        self.doc.parse()\n",
    "        \n",
    "    \n",
    "    def get_sentences(self):\n",
    "        \"\"\"\n",
    "        Creates a list of sentences from the <body> tag of the content.\n",
    "        :return: list of sentences.\n",
    "\n",
    "        TODO: (?) what is the sentence\n",
    "        \"\"\"\n",
    "        body_strings = doc.doc.soup.body.strings\n",
    "        body = re.sub('\\s{2,}', ' ', \" \".join(list(body_strings)).replace('\\n', ' ')).strip()   \n",
    "        result = sent_tokenize(body)\n",
    "        return result\n",
    "    \n",
    "    def get_word_stats(self):\n",
    "        \"\"\"\n",
    "        Creates a counter of each word in the content text.\n",
    "        :return: counter.\n",
    "        \"\"\"\n",
    "        counter = Counter()\n",
    "        words = [word.lower() for word in word_tokenize(self.doc.text) if word not in [',', '.']]\n",
    "        for word in words:\n",
    "            counter[word] += 1\n",
    "        return counter"
   ]
  },
  {
   "cell_type": "markdown",
   "metadata": {},
   "source": [
    "### 1.4.1. Tests ###"
   ]
  },
  {
   "cell_type": "code",
   "execution_count": 6,
   "metadata": {},
   "outputs": [
    {
     "name": "stdout",
     "output_type": "stream",
     "text": [
      "[('и', 60), ('в', 35), ('иннополис', 21), ('по', 16), ('университет', 12), ('на', 11), ('области', 10), ('лаборатория', 10), ('университета', 9), ('центр', 9)]\n"
     ]
    }
   ],
   "source": [
    "doc = HtmlDocumentTextData(\"https://innopolis.university/\")\n",
    "print(doc.get_word_stats().most_common(10))\n",
    "assert [x for x in doc.get_word_stats().most_common(10) if x[0] == 'иннополис'], 'иннополис should be among most common'"
   ]
  },
  {
   "cell_type": "markdown",
   "metadata": {},
   "source": [
    "## 1.5. [15] Crawling ##\n",
    "\n",
    "Method `crawl_generator()` is given starting url (`source`) and max depth of search. It should return a **generator** of `HtmlDocumentTextData` objects (return a document as soon as it is downloaded and parsed). You can benefit from `yield obj_name` python construction. Use `HtmlDocumentTextData.anchors` field to go deeper."
   ]
  },
  {
   "cell_type": "code",
   "execution_count": null,
   "metadata": {},
   "outputs": [],
   "source": [
    "from queue import Queue\n",
    "\n",
    "class Crawler:\n",
    "    \n",
    "    def crawl_generator(self, source, depth=1):\n",
    "        #TODO return real crawling results. Don't forget to process failures\n",
    "        for i in range(3):\n",
    "            yield HtmlDocumentTextData(source)"
   ]
  },
  {
   "cell_type": "markdown",
   "metadata": {},
   "source": [
    "### 1.5. Tests ###"
   ]
  },
  {
   "cell_type": "code",
   "execution_count": null,
   "metadata": {},
   "outputs": [],
   "source": [
    "crawler = Crawler()\n",
    "counter = Counter()\n",
    "\n",
    "for c in crawler.crawl_generator(\"https://innopolis.university/en/\", 2):\n",
    "    print(c.doc.url)\n",
    "    if c.doc.url[-4:] in ('.pdf', '.mp3', '.avi', '.mp4', '.txt'):\n",
    "        print(\"Skipping\", c.doc.url)\n",
    "        continue\n",
    "    counter.update(c.get_word_stats())\n",
    "    print(len(counter), \"distinct word(s) so far\")\n",
    "    \n",
    "print(\"Done\")\n",
    "\n",
    "print(counter.most_common(20))\n",
    "assert [x for x in counter.most_common(20) if x[0] == 'innopolis'], 'innopolis sould be among most common'"
   ]
  }
 ],
 "metadata": {
  "kernelspec": {
   "display_name": "Python 3",
   "language": "python",
   "name": "python3"
  },
  "language_info": {
   "codemirror_mode": {
    "name": "ipython",
    "version": 3
   },
   "file_extension": ".py",
   "mimetype": "text/x-python",
   "name": "python",
   "nbconvert_exporter": "python",
   "pygments_lexer": "ipython3",
   "version": "3.8.12"
  }
 },
 "nbformat": 4,
 "nbformat_minor": 4
}
